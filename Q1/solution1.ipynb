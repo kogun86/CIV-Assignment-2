{
 "cells": [
  {
   "cell_type": "markdown",
   "id": "c04c6556",
   "metadata": {},
   "source": [
    "## Metric Comparison\n",
    "- Mean Absolute Error\n",
    "  - Measures average absolute difference between predicted and actual values.\n",
    "  - Easy to interpret\n",
    "- Mean Squared Error\n",
    "  - Penalizes larger errors more heavily due to squaring.\n",
    "  - Useful when large errors are worse than small ones.\n",
    "- Root Mean Squared Error\n",
    "  - Square root of MSE. Has the same units as the target.\n",
    "  - More interpretable than MSE\n",
    "- Mean Absolute Percentage Error\n",
    "  - Error as a percentage, making it scale-independent.\n",
    "  - Problematic when actual values are near zero\n"
   ]
  },
  {
   "cell_type": "code",
   "execution_count": 1,
   "id": "041ed6af",
   "metadata": {},
   "outputs": [
    {
     "name": "stdout",
     "output_type": "stream",
     "text": [
      "Linear Regression Results:\n",
      "Coefficients: [-13512.56442597    143.21853204]\n",
      "Intercept: 84763.62252219394\n",
      "MAE: 72334.7536035667\n",
      "MSE: 8610424544.777668\n",
      "RMSE: 92792.37331148324\n",
      "\n",
      "SGD Regressor Results:\n",
      "MAE: 1773856323377313.5\n",
      "MSE: 3.694620924606746e+30\n",
      "RMSE: 1922139673542676.2\n",
      "\n",
      "MAPE:\n",
      "Linear Regression MAPE: 17.460519278319328\n",
      "SGD Regressor MAPE: 437232673217.5229\n"
     ]
    }
   ],
   "source": [
    "import numpy as np\n",
    "import pandas as pd\n",
    "from sklearn.linear_model import LinearRegression\n",
    "from sklearn.linear_model import SGDRegressor\n",
    "from sklearn.model_selection import train_test_split\n",
    "from sklearn.metrics import mean_absolute_error, mean_squared_error\n",
    "\n",
    "df = pd.read_csv(\"house_price.csv\")\n",
    "\n",
    "X = df[[\"bedroom\", \"size\"]]\n",
    "y = df[\"price\"]\n",
    "\n",
    "X_train, X_test, y_train, y_test = train_test_split(X, y, test_size=0.2, random_state=42)\n",
    "\n",
    "# Linear Regression\n",
    "lr_model = LinearRegression()\n",
    "lr_model.fit(X_train, y_train)\n",
    "\n",
    "y_pred_lr = lr_model.predict(X_test)\n",
    "\n",
    "# Metrics\n",
    "mae = mean_absolute_error(y_test, y_pred_lr)\n",
    "mse = mean_squared_error(y_test, y_pred_lr)\n",
    "rmse = mse ** 0.5\n",
    "\n",
    "print(\"Linear Regression Results:\")\n",
    "\n",
    "# Coefficients\n",
    "print(\"Coefficients:\", lr_model.coef_)\n",
    "print(\"Intercept:\", lr_model.intercept_)\n",
    "\n",
    "print(\"MAE:\", mae)\n",
    "print(\"MSE:\", mse)\n",
    "print(\"RMSE:\", rmse)\n",
    "\n",
    "# Stochastic Gradient Descent Regressor\n",
    "sgdr_model = SGDRegressor(max_iter=1000, tol=1e-3)\n",
    "sgdr_model.fit(X_train, y_train)\n",
    "\n",
    "y_pred_sgdr = sgdr_model.predict(X_test)\n",
    "\n",
    "# Metrics\n",
    "mae_sgd = mean_absolute_error(y_test, y_pred_sgdr)\n",
    "mse_sgd = mean_squared_error(y_test, y_pred_sgdr)\n",
    "rmse_sgd = mse_sgd ** 0.5\n",
    "\n",
    "print(\"\\nSGD Regressor Results:\")\n",
    "print(\"MAE:\", mae_sgd)\n",
    "print(\"MSE:\", mse_sgd)\n",
    "print(\"RMSE:\", rmse_sgd)\n",
    "\n",
    "# Mean Absolute Percentage Error (MAPE)\n",
    "def mean_absolute_percentage_error(y_true, y_pred):    \n",
    "    y_true, y_pred = np.array(y_true), np.array(y_pred)\n",
    "    return np.mean(np.abs((y_true - y_pred) / y_true)) * 100\n",
    "\n",
    "mape_lr = mean_absolute_percentage_error(y_test, y_pred_lr)\n",
    "mape_sgd = mean_absolute_percentage_error(y_test, y_pred_sgdr)\n",
    "\n",
    "print(\"\\nMAPE:\")\n",
    "print(\"Linear Regression MAPE:\", mape_lr)\n",
    "print(\"SGD Regressor MAPE:\", mape_sgd)"
   ]
  }
 ],
 "metadata": {
  "kernelspec": {
   "display_name": "Python 3",
   "language": "python",
   "name": "python3"
  },
  "language_info": {
   "codemirror_mode": {
    "name": "ipython",
    "version": 3
   },
   "file_extension": ".py",
   "mimetype": "text/x-python",
   "name": "python",
   "nbconvert_exporter": "python",
   "pygments_lexer": "ipython3",
   "version": "3.13.5"
  }
 },
 "nbformat": 4,
 "nbformat_minor": 5
}
